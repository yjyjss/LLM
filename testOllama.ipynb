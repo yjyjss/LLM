{
 "cells": [
  {
   "cell_type": "code",
   "execution_count": 1,
   "metadata": {},
   "outputs": [],
   "source": [
    "import numpy as np\n",
    "from langchain_core.prompts import ChatPromptTemplate\n",
    "from langchain_ollama.llms import OllamaLLM\n",
    "from langchain.llms import Ollama\n",
    "\n",
    "import pandas as pd\n",
    "\n"
   ]
  },
  {
   "cell_type": "code",
   "execution_count": 2,
   "metadata": {},
   "outputs": [],
   "source": [
    "ollama = Ollama(base_url=\"http://192.168.200.204:11434\",model=\"llama3.1:8b\")\n",
    "# response = ollama(\"why is the sky blue\")\n",
    "# print(response)"
   ]
  },
  {
   "cell_type": "code",
   "execution_count": null,
   "metadata": {},
   "outputs": [],
   "source": [
    "response = ollama(\"how many token can you read using ollama3.1:70b model. The tokens means input tokens (i.e., individual words or subwords) that can be processed by the model\")\n",
    "print(response)"
   ]
  },
  {
   "cell_type": "code",
   "execution_count": 3,
   "metadata": {},
   "outputs": [],
   "source": [
    "from IOs import *\n",
    "\n",
    "events_file_json = \"/home/jia/cyber_security/resilmesh/ait_ads/wilson_wazuh.json\"\n",
    "events_file_txt  = \"/home/jia/cyber_security/resilmesh/alert-data-set-main/alerts_csv/alerts_csv/fox_alerts.txt\"\n",
    "interval_file = \"/home/jia/cyber_security/resilmesh/ait_ads/labels.csv\"\n",
    "out_label = \"./wilson_wazuh_labels.txt\"\n",
    "\n",
    "#events = load_events_json_file(events_file)\n",
    "data = load_events_txt_file(events_file_txt)\n",
    "data_group_ip = data.groupby('ip')\n",
    "data_group_ip_event = groupby_ip_event(data)"
   ]
  },
  {
   "cell_type": "code",
   "execution_count": null,
   "metadata": {},
   "outputs": [],
   "source": [
    "data_group_attack = data.groupby('time_label')"
   ]
  },
  {
   "cell_type": "code",
   "execution_count": null,
   "metadata": {},
   "outputs": [],
   "source": [
    "cracking_index = data_group_attack.groups['cracking']\n"
   ]
  },
  {
   "cell_type": "code",
   "execution_count": null,
   "metadata": {},
   "outputs": [],
   "source": [
    "test_data = data.iloc[cracking_index.to_list()][0:50]\n"
   ]
  },
  {
   "cell_type": "code",
   "execution_count": null,
   "metadata": {},
   "outputs": [],
   "source": []
  },
  {
   "cell_type": "code",
   "execution_count": 4,
   "metadata": {},
   "outputs": [],
   "source": [
    "examples_set = create_sequences(data_group_ip_event)\n",
    "examples = examples_set[0]"
   ]
  },
  {
   "cell_type": "code",
   "execution_count": 5,
   "metadata": {},
   "outputs": [],
   "source": [
    "ip_81 = data_group_ip.groups['172.17.131.81']\n",
    "df_81=data.iloc[ip_81]\n",
    "df_81 = df_81.reset_index()\n",
    "sum_ip_81 = summizeCorpus(df_81) # convert the static information to list"
   ]
  },
  {
   "cell_type": "code",
   "execution_count": null,
   "metadata": {},
   "outputs": [],
   "source": []
  },
  {
   "cell_type": "code",
   "execution_count": null,
   "metadata": {},
   "outputs": [],
   "source": [
    "# ollama = Ollama(base_url=\"http://192.168.200.204:11434\",model=\"llama3.1:8b\",num_ctx=2048)\n",
    "# response = ollama(\"You are an expert cyber security threat intelligence analyst. There are events from IDS. \\\n",
    "#                   Each event contains information of timestamp, event description, IP address, host name,  the abbreviation for the event description, event class label. following are events from IDS.\\\n",
    "#                       \\\n",
    "#                    \"+ data_olla + \"make analysis\")\n",
    "# print(response)\n"
   ]
  },
  {
   "cell_type": "code",
   "execution_count": null,
   "metadata": {},
   "outputs": [],
   "source": [
    "# response = ollama(\"\"\"You are a cybersecurity analysis expert. There is a series of network security events, and each event contains a timestamp, event description, \\\n",
    "#     IP address, hostname, and event label. Your task is to manually analyze and summarize the events based on their timestamp.\n",
    "#     Important: Do not write code. Instead, provide the summary as instructed below.\\\n",
    "#         If the time difference between two events is within 300 seconds, consider them consecutive and group them into the same time window.\\\n",
    "#             Each event is presented in the following format: timestamp, event description, IP address, hostname, event label\\\n",
    "#             For example, here are some network security events:\n",
    "#             1642213952, Wazuh: ClamAV database update, 172.17.131.81, mail, false_positive\n",
    "#             1642213957, Wazuh: ClamAV database update, 172.17.131.81, mail, false_positive\n",
    "#             1642213962, Wazuh: ClamAV database update, 172.17.131.81, mail, false_positive\n",
    "#             1642214268, Wazuh: ClamAV database update, 192.168.128.195, taylorcruz_mail, false_positive\n",
    "#             1642214516, Wazuh: ClamAV database update, 192.168.131.228, whittaker_mail, false_positive\n",
    "#             Task:\n",
    "#             1. Group the events in chronological order.\n",
    "#             2. If the time difference between two events is no more than 300 seconds and the type of events, the host, the class label are same, group these events into a time window.\n",
    "#             3. Generate a summary report for each time window. The report format should be: start_time-end_time Event Type: event description Label: event label\n",
    "#             Here is an example of the output format:\n",
    "#             1642213952-1642213962 Event Type: Wazuh: ClamAV database update Label: false_positive\n",
    "#             1642214268-1642214268 Event Type: Wazuh: ClamAV database update Label: false_positive\n",
    "#             Now, please perform the same operation for the following event data: {data_olla}\n",
    "#             \"\"\")\n",
    "# print(response)"
   ]
  },
  {
   "cell_type": "code",
   "execution_count": 6,
   "metadata": {},
   "outputs": [],
   "source": [
    "prompt_rule = \"\"\" You are a cybersecurity analysis expert. I have a dataset of security samples. Each row is a sample containing the following fields:\n",
    "- Time period (start time and end time)\n",
    "- Event type\n",
    "- Host\n",
    "- Class label of this event (such as \"false positive\")\n",
    "- Counts of this event during this period\n",
    "\n",
    "Your task is to analyze and summarize the patterns and dependencies based on the following five aspects:\n",
    "\n",
    "1. **Event Sequence Dependency**:\n",
    "   - Summarize any notable patterns where certain events tend to follow other events in sequence.\n",
    "   - Identify any common sequences where certain types of event occurs before others.\n",
    "\n",
    "2. **Time Dependency**:\n",
    "   - Summarize patterns in the timing of events. Do certain events occur more frequently during specific times of the day or specific time periods?\n",
    "   - Identify if there are any time-based patterns, such as events that occur during the night or specific hours.\n",
    "\n",
    "3. **Host Dependency**:\n",
    "   - Summarize patterns where specific hosts are more likely to experience certain types of events.\n",
    "   - Identify any hosts that are frequently associated with certain events or attacks.\n",
    "\n",
    "4. **Event Frequency and Volume Dependency**:\n",
    "   - Identify patterns in the frequency and volume of events, especially when certain events occur in high volumes or low frequencies.\n",
    "   - Recognize if large volumes of events in a short period could indicate floods or DDoS attacks, or if low-frequency events suggest stealthy, persistent threats.\n",
    "\n",
    "5. **Event Evolution and Escalation Patterns**:\n",
    "   - Analyze if certain low-priority events often escalate into more serious incidents.\n",
    "   - Look for patterns where an event sequence might start with a benign or low-severity event but escalate to a more severe attack.\n",
    "\n",
    "### Example Data (time period, event type, host, class label) are as follows: {sum_ip_81}\n",
    "\n",
    "\n",
    "**Instructions**:\n",
    "- Format the analysis as a **numbered list**, highlighting significant findings in each of the five aspects.\n",
    "            \"\"\"\n",
    "            \n",
    "prompt_rule_update = \"\"\" You are a cybersecurity analysis expert. Based on the previous data and summarized rules, I now have additional samples for you to analyze. Each row is a sample containing the following fields:\n",
    "- Time period (start time and end time)\n",
    "- Event type\n",
    "- Host\n",
    "- Class label of this event (such as \"false positive\")\n",
    "- Counts of this event during this period\n",
    "                Here are the previously summarized rules: \n",
    "                {response}\n",
    "                \n",
    "                The summarized rules are analysed from 5 aspects.\n",
    "                \n",
    "                Following are the new data: \n",
    "                {sum_ip_81}\n",
    "                \n",
    "\n",
    "               ### Instructions:\n",
    "               1. Analyze the samples according to the 5 aspects of the previous summarized rules.\n",
    "               2. Integrate any new patterns or dependencies found from the new data into the corresponding category in the 5 aspects.\n",
    "               3. **Ensure that your analysis follows the same numbered format** as the previous summarized rules.\n",
    "               4. If the new data introduces new patterns, add new rules to the relevant aspect and clearly explain how they relate to the previously summarized rules.\n",
    "               5. **Provide the final updated summary in the form of a numbered list**, with each of the 5 aspects updated accordingly. \"\"\"\n",
    "               #  1. Analyze the new data and summarize the patterns and dependencies based on the following five aspects:\n",
    "               #              (1). **Event Sequence Dependency**:\n",
    "               #              - Summarize any notable patterns where certain events tend to follow other events in sequence.\n",
    "               #              - Identify any common sequences where certain types of events occur before others.\n",
    "\n",
    "               #              (2). **Time Dependency**:\n",
    "               #              - Summarize patterns in the timing of events. Do certain events occur more frequently during specific times of the day or specific time periods?\n",
    "               #              - Identify if there are any time-based patterns, such as events that occur during the night or specific hours.\n",
    "\n",
    "               #              (3). **Host Dependency**:\n",
    "               #              - Summarize patterns where specific hosts are more likely to experience certain types of events.\n",
    "               #              - Identify any hosts that are frequently associated with certain events or attacks.\n",
    "\n",
    "               #              (4). **Event Frequency and Volume Dependency**:\n",
    "               #              - Identify patterns in the frequency and volume of events, especially when certain events occur in high volumes or low frequencies.\n",
    "               #              - Recognize if large volumes of events in a short period could indicate floods or DDoS attacks, or if low-frequency events suggest stealthy, persistent threats.\n",
    "\n",
    "               #              (5). **Event Evolution and Escalation Patterns**:\n",
    "               #              - Analyze if certain low-priority events often escalate into more serious incidents.\n",
    "               #              - Look for patterns where an event sequence might start with a benign or low-severity event but escalate to a more severe attack.\n",
    "                \n",
    "                \n",
    "               #  2. Integrate any new patterns or dependencies into the existing previously summarized rules.\n",
    "               #  If the new data introduces new patterns, add new rules to the list and highlight how they relate to the previously summarized rules.\n",
    "               "
   ]
  },
  {
   "cell_type": "code",
   "execution_count": 7,
   "metadata": {},
   "outputs": [],
   "source": [
    "\n",
    "context = {\"sum_ip_81\": sum_ip_81[0:100]}\n",
    "prompt_rule_formated = prompt_rule.format(**context)"
   ]
  },
  {
   "cell_type": "code",
   "execution_count": null,
   "metadata": {},
   "outputs": [],
   "source": [
    "# from transformers import LlamaTokenizer\n",
    "# tokenizer = LlamaTokenizer.from_pretrained(\"meta-llama/Llama-2-7b-hf\")\n",
    "import tiktoken\n",
    "enc = tiktoken.encoding_for_model(\"gpt-4\")\n",
    "tokens = enc.encode(prompt_rule_formated)\n",
    "print(f\"Token:{len(tokens)}\")"
   ]
  },
  {
   "cell_type": "code",
   "execution_count": null,
   "metadata": {},
   "outputs": [],
   "source": []
  },
  {
   "cell_type": "code",
   "execution_count": null,
   "metadata": {},
   "outputs": [],
   "source": [
    "ollama = Ollama(base_url=\"http://192.168.200.204:11434\",model=\"llama3.1:8b\",num_ctx=128000)\n",
    "response_1 = ollama(prompt_rule_formated)\n",
    "print(response_1)"
   ]
  },
  {
   "cell_type": "code",
   "execution_count": null,
   "metadata": {},
   "outputs": [],
   "source": [
    "context = {\"response_1\": response_1, \"sum_ip_81\": sum_ip_81[100:200]}\n",
    "formated_updated_format = prompt_rule_update.format(**context)"
   ]
  },
  {
   "cell_type": "code",
   "execution_count": null,
   "metadata": {},
   "outputs": [],
   "source": [
    "response = ollama(formated_updated_format)\n",
    "print(response)"
   ]
  },
  {
   "cell_type": "code",
   "execution_count": 8,
   "metadata": {},
   "outputs": [
    {
     "name": "stdout",
     "output_type": "stream",
     "text": [
      "Reading the 0th batch data\n"
     ]
    },
    {
     "name": "stderr",
     "output_type": "stream",
     "text": [
      "/tmp/ipykernel_1600455/3370609587.py:11: LangChainDeprecationWarning: The method `BaseLLM.__call__` was deprecated in langchain-core 0.1.7 and will be removed in 1.0. Use invoke instead.\n",
      "  response = ollama(prompt_rule_formated)\n"
     ]
    },
    {
     "name": "stdout",
     "output_type": "stream",
     "text": [
      "Reading the 1th batch data\n",
      "Reading the 2th batch data\n",
      "Reading the 3th batch data\n",
      "Reading the 4th batch data\n",
      "Reading the 5th batch data\n"
     ]
    }
   ],
   "source": [
    "N = 100\n",
    "batches = [data[i:i+N] for i in range(0,len(sum_ip_81))]\n",
    "ollama = Ollama(base_url=\"http://192.168.200.204:11434\",model=\"llama3.1:8b\",num_ctx=128000)\n",
    "\n",
    "response =''\n",
    "for i in range(len(batches)):\n",
    "    print(f\"Reading the {i}th batch data\")\n",
    "    if i==0:\n",
    "        context = {\"sum_ip_81\": batches[i]}\n",
    "        prompt_rule_formated = prompt_rule.format(**context)\n",
    "        response = ollama(prompt_rule_formated)\n",
    "    else:\n",
    "        context = {\"response\": response, \"sum_ip_81\": batches[i]}\n",
    "        prompt_rule_formated = prompt_rule_update.format(**context)\n",
    "        response = ollama(prompt_rule_formated)\n",
    "        \n",
    "    if i==5:\n",
    "        break\n",
    "        \n",
    "        \n",
    "    "
   ]
  },
  {
   "cell_type": "code",
   "execution_count": 9,
   "metadata": {},
   "outputs": [
    {
     "name": "stdout",
     "output_type": "stream",
     "text": [
      "Here is the analysis of the new data according to the 5 aspects:\n",
      "\n",
      "**1. Event Sequence Dependency**\n",
      "\n",
      "* Notable pattern: The sequence where `Wazuh: ClamAV database update` events tend to occur frequently (up to 5 occurrences in quick succession) and are often followed by other types of events.\n",
      "* New pattern: A new sequence has been identified where `Suricata: Alert - ET POLICY GNU/Linux APT User` events are often preceded by `Wazuh: ClamAV database update` and `IDS event` events, which might suggest a potential threat escalation scenario.\n",
      "* Additional insight: The new data introduces a new sequence where `cloud_share_host` is associated with `false_positive` events, which could indicate that this system requires regular updates or maintenance. This sequence also shows a pattern of rapid database updates related to security protocols (up to 5 occurrences in a short period).\n",
      "* New pattern: A new high-volume event has been identified where multiple \"false_positive\" events in quick succession are often observed on the `cloud_share_host`, potentially suggesting a system's initial response to routine operations or potential false alarms.\n",
      "* Additional insight: The new data suggests that the sequence of `Wazuh: ClamAV database update` and `IDS event` is followed by `Suricata: Alert - ET POLICY GNU/Linux APT User` events on the `inet-firewall_host`, indicating a potential security threat chain.\n",
      "\n",
      "**2. Time Dependency**\n",
      "\n",
      "* Pattern: Events with the label \"false_positive\" occur most frequently during morning hours (6:00 AM - 8:00 AM).\n",
      "* New pattern: A new time-based pattern has been identified where `Suricata: Alert - ET POLICY GNU/Linux APT User` events are predominantly observed in late afternoon/early evening hours (4:00 PM - 7:00 PM), potentially indicating increased online activity and potential security threats during these periods.\n",
      "* Additional insight: The new data suggests that \"false_positive\" events also occur during late afternoon/early evening hours, possibly due to system maintenance or updates. Additionally, the `cloud_share_host` is associated with `false_positive` events in this time period.\n",
      "* New pattern: A new time-based pattern has been identified where multiple \"false_positive\" events in quick succession are often observed on the `cloud_share_host` during late afternoon/early evening hours (4:00 PM - 7:00 PM), potentially suggesting a system's initial response to routine operations or potential false alarms.\n",
      "\n",
      "**3. Host Dependency**\n",
      "\n",
      "* Pattern: The host \"mail\" continues to be frequently associated with `Wazuh: ClamAV database update` events.\n",
      "* New pattern: A new host association has been identified where certain hosts (e.g., \"inet-firewall\", \"whittaker_mail\") are more likely to experience security-related events (\"false_positive\", \"IDS event\"), possibly due to their roles as gateways or system services.\n",
      "* Additional insight: The new data introduces a new host, \"cloud_share\", which is associated with `false_positive` events. This could indicate that this system requires regular updates or maintenance.\n",
      "* New pattern: A new host association has been identified where the `cloud_share_host` is more likely to experience high volumes of `false_positive` events in quick succession, potentially suggesting a system's initial response to routine operations or potential false alarms.\n",
      "\n",
      "**4. Event Frequency and Volume Dependency**\n",
      "\n",
      "* Pattern: Large volumes of `Wazuh: ClamAV database update` events (up to 5 occurrences in a short period) might indicate rapid database updates related to security protocols.\n",
      "* New pattern: A new high-volume event has been identified where multiple \"false_positive\" events in quick succession are often observed, potentially suggesting a system's initial response to routine operations or potential false alarms.\n",
      "* Additional insight: The new data suggests that `Suricata: Alert - ET POLICY GNU/Linux APT User` events also occur in high volumes, possibly indicating increased online activity and potential security threats. Additionally, the `cloud_share_host` is associated with high volumes of `false_positive` events.\n",
      "\n",
      "**5. Event Evolution and Escalation Patterns**\n",
      "\n",
      "* Pattern: Low-priority events (\"false_positive\") often precede more severe incidents.\n",
      "* New pattern: A new escalation pattern has been identified where an event sequence starting with a benign event (e.g., \"Wazuh: ClamAV database update\") and escalating to more severe attacks suggests a potential security threat chain.\n",
      "* Additional insight: The new data introduces a new host, \"cloud_share\", which is associated with `false_positive` events. This could indicate that this system requires regular updates or maintenance, potentially leading to a security threat chain if not properly maintained.\n",
      "\n",
      "**Additional Insights**\n",
      "\n",
      "* The new data has introduced a new host, \"cloud_share\", which is associated with `false_positive` events.\n",
      "* The `Suricata: Alert - ET POLICY GNU/Linux APT User` event has been observed in multiple instances, suggesting a potential threat escalation scenario.\n",
      "\n",
      "The final updated summary:\n",
      "\n",
      "1. **Event Sequence Dependency**: \n",
      "   * Notable pattern: ... (same as before)\n",
      "   * New pattern: ...\n",
      "   * Additional insight: The new data introduces a new sequence where `cloud_share_host` is associated with `false_positive` events, which could indicate that this system requires regular updates or maintenance.\n",
      "2. **Time Dependency**:\n",
      "   * Pattern: Events with the label \"false_positive\" occur most frequently during morning hours (6:00 AM - 8:00 AM).\n",
      "   * New pattern: ...\n",
      "   * Additional insight: The new data suggests that \"false_positive\" events also occur during late afternoon/early evening hours, possibly due to system maintenance or updates.\n",
      "3. **Host Dependency**:\n",
      "   * Pattern: ... (same as before)\n",
      "   * New pattern: A new host association has been identified where the `cloud_share_host` is more likely to experience high volumes of `false_positive` events in quick succession, potentially suggesting a system's initial response to routine operations or potential false alarms.\n",
      "4. **Event Frequency and Volume Dependency**:\n",
      "   * Pattern: Large volumes of `Wazuh: ClamAV database update` events (up to 5 occurrences in a short period) might indicate rapid database updates related to security protocols.\n",
      "   * New pattern: ...\n",
      "   * Additional insight: The new data suggests that the sequence of `Wazuh: ClamAV database update` and `IDS event` is followed by `Suricata: Alert - ET POLICY GNU/Linux APT User` events on the `inet-firewall_host`, indicating a potential security threat chain.\n",
      "5. **Event Evolution and Escalation Patterns**:\n",
      "   * Pattern: Low-priority events (\"false_positive\") often precede more severe incidents.\n",
      "   * New pattern: ...\n",
      "   * Additional insight: The new data introduces a new host, \"cloud_share\", which is associated with `false_positive` events. This could indicate that this system requires regular updates or maintenance, potentially leading to a security threat chain if not properly maintained.\n"
     ]
    }
   ],
   "source": [
    "print(response)\n",
    "rules = response"
   ]
  },
  {
   "cell_type": "code",
   "execution_count": 10,
   "metadata": {},
   "outputs": [],
   "source": [
    "# Prediction task\n",
    "prompt_predict = \"\"\"\n",
    "**# Prediction Task**\n",
    "\n",
    "You are a cybersecurity expert. Each network security event is a sample with a timestamp, event description, IP address, hostname, and class label. \n",
    "Your task is to predict the class label of a sample based on its event description and the 10 preceding events.\n",
    "\n",
    "**Examples:**\n",
    "\n",
    "- Example 1:  \n",
    "  Preceding events: {example_1}  \n",
    "  Current event: {event_2}  \n",
    "  Predicted Class label of current event: {label_1}\n",
    "  \n",
    "- Example 2:  \n",
    "  Preceding events: {example_2}  \n",
    "  Current event: {event_2}  \n",
    "  Predicted Class label of current event: {label_2}\n",
    "  \n",
    "- Example 3:  \n",
    "  Preceding events: {example_3}  \n",
    "  Current event: {event_3}  \n",
    "  Predicted Class label of current event: {label_3}\n",
    "  \n",
    "- Example 4:  \n",
    "  Preceding events: {example_4}  \n",
    "  Current event: {event_4}  \n",
    "  Predicted Class label of current event: {label_4}\n",
    "\n",
    "\n",
    "\n",
    "**Task:**  \n",
    "Given the the preceding events, current event, and previous learned {rules}, predict the class label directly without algorithm: \n",
    "Preceding events: {task_precedings}  \n",
    "Current event: {task_event}\n",
    "\n",
    "Format your prediction and analysis as a numbered list:\n",
    " 1. Prediction result: [predicted class label]\n",
    " 2. The reason you make this prediction: \n",
    "      (1) Preceding events analysis: [ analysis the preceding events]\n",
    "      (2) Current event analysis:    [ analysis the current event]\n",
    " The  predicted class label are one of the following 11 types: 'cracking','dirb','dnsteal','false_positive','network_scans',\\\n",
    "  'privilege_escalation','reverse_shell','service_scans','service_stop','webshell','wpscan'. \n",
    " \n",
    "\n",
    " \"\"\"\n",
    "\n",
    "\n",
    "\n",
    "\n",
    "\n",
    "\n",
    "           \n"
   ]
  },
  {
   "cell_type": "code",
   "execution_count": 14,
   "metadata": {},
   "outputs": [],
   "source": [
    "context = var4prompt(examples)\n",
    "context['rules'] = rules\n",
    "formated_prompt_predict = prompt_predict.format(**context)"
   ]
  },
  {
   "cell_type": "code",
   "execution_count": 15,
   "metadata": {},
   "outputs": [
    {
     "name": "stdout",
     "output_type": "stream",
     "text": [
      "1. Prediction result: false_positive\n",
      "2. The reason you make this prediction:\n",
      "    (1) Preceding events analysis: Based on the preceding events, it appears that there is a pattern of 'AMiner: High entropy in DNS domain' events occurring frequently and consistently over a period of time. This could indicate routine operations or maintenance activities rather than a security threat.\n",
      "    (2) Current event analysis: The current event also reports an 'AMiner: High entropy in DNS domain' activity, which is consistent with the preceding events. This further supports the likelihood that the current event is also a false positive.\n",
      "\n",
      "The analysis of the new data according to the 5 aspects:\n",
      "\n",
      "**1. Event Sequence Dependency**\n",
      "\n",
      "* Notable pattern: The sequence where `Wazuh: ClamAV database update` events tend to occur frequently (up to 5 occurrences in quick succession) and are often followed by other types of events.\n",
      "* New pattern: A new sequence has been identified where `Suricata: Alert - ET POLICY GNU/Linux APT User` events are often preceded by `Wazuh: ClamAV database update` and `IDS event` events, which might suggest a potential threat escalation scenario.\n",
      "\n",
      "**2. Time Dependency**\n",
      "\n",
      "* Pattern: Events with the label \"false_positive\" occur most frequently during morning hours (6:00 AM - 8:00 AM).\n",
      "\n",
      "**3. Host Dependency**\n",
      "\n",
      "* Pattern: The host \"mail\" continues to be frequently associated with `Wazuh: ClamAV database update` events.\n",
      "\n",
      "**4. Event Frequency and Volume Dependency**\n",
      "\n",
      "* Pattern: Large volumes of `Wazuh: ClamAV database update` events (up to 5 occurrences in a short period) might indicate rapid database updates related to security protocols.\n",
      "\n",
      "**5. Event Evolution and Escalation Patterns**\n",
      "\n",
      "* Pattern: Low-priority events (\"false_positive\") often precede more severe incidents.\n",
      "\n",
      "Note that the predicted class label is false_positive, which is consistent with the analysis of the preceding events and the current event. The reason for this prediction is based on the pattern of frequent and consistent 'AMiner: High entropy in DNS domain' events, as well as the lack of indication of a security threat in the current event.\n"
     ]
    }
   ],
   "source": [
    "response = ollama(formated_prompt_predict)\n",
    "print(response)"
   ]
  },
  {
   "cell_type": "code",
   "execution_count": null,
   "metadata": {},
   "outputs": [],
   "source": [
    "import os\n",
    "import pandas as pd\n",
    "events_txt_dir = \"/home/jia/cyber_security/resilmesh/alert-data-set-main/alerts_csv/alerts_csv/\"\n",
    "\n",
    "events_set = set()\n",
    "discription_set = set()\n",
    "for file_name in os.listdir(events_txt_dir):\n",
    "    file_path = os.path.join(events_txt_dir,file_name)\n",
    "    df = pd.read_csv(file_path)\n",
    "    events_set.update(df['short'])\n"
   ]
  },
  {
   "cell_type": "code",
   "execution_count": null,
   "metadata": {},
   "outputs": [],
   "source": [
    "len(events_set)"
   ]
  },
  {
   "cell_type": "code",
   "execution_count": null,
   "metadata": {},
   "outputs": [],
   "source": [
    "logs=[]\n",
    "for i in range(len(events)):\n",
    "    if 'full_log' not in events[i]:\n",
    "        logs.append(i)\n",
    "    "
   ]
  },
  {
   "cell_type": "code",
   "execution_count": null,
   "metadata": {},
   "outputs": [],
   "source": [
    "len(logs)"
   ]
  },
  {
   "cell_type": "code",
   "execution_count": null,
   "metadata": {},
   "outputs": [],
   "source": [
    "len(events)"
   ]
  },
  {
   "cell_type": "code",
   "execution_count": null,
   "metadata": {},
   "outputs": [],
   "source": [
    "events[0]['full_log']\n",
    "logs = [event['full_log'] for event in events]"
   ]
  },
  {
   "cell_type": "code",
   "execution_count": null,
   "metadata": {},
   "outputs": [],
   "source": [
    "from datetime import datetime\n",
    "\n",
    "str = \"2022-02-03T00:45:06.000000Z\"\n",
    "dt = datetime.strptime(str, \"%Y-%m-%dT%H:%M:%S.%fZ\")\n",
    "timestamp = int(dt.timestamp())\n",
    "\n",
    "print(timestamp)"
   ]
  },
  {
   "cell_type": "code",
   "execution_count": null,
   "metadata": {},
   "outputs": [],
   "source": [
    "events[0]"
   ]
  },
  {
   "cell_type": "code",
   "execution_count": null,
   "metadata": {},
   "outputs": [],
   "source": [
    "template = \"\"\"Question:{question}\n",
    "Answer: Let's think step by step.\"\"\"\n",
    "prompt = ChatPromptTemplate.from_template(template)\n",
    "model = OllamaLLM(model=\"llama3.1\")\n",
    "chain = prompt | model\n",
    "chain.invoke({\"question\":\"What is LangChain\"})"
   ]
  },
  {
   "cell_type": "code",
   "execution_count": 16,
   "metadata": {},
   "outputs": [],
   "source": [
    "pattern_extraction_prompt_rule = \"\"\" You are a cybersecurity analysis expert. I have a dataset of security samples. Each row is a sample containing the following fields:\n",
    "- Time period (start time and end time)\n",
    "- Event type\n",
    "- Host\n",
    "- Class label of this event (such as \"false positive\")\n",
    "- Counts of this event during this period\n",
    "\n",
    "Your task is to analyze and summarize the patterns and dependencies based on the following two aspects:\n",
    "\n",
    "1. **Analyze the following sequence of events. Identify any patterns or recurring behaviors in this chunk that could lead to a potential outcome or alert. \\\n",
    "    Describe the conditions under which certain events lead to specific outcomes.\n",
    "\n",
    "2. **From the following chunk of events, extract potential causal relationships between event types and their outcomes. \\\n",
    "    Summarize the conditions under which an event seems to lead to a specific action or state.\n",
    "\n",
    "\n",
    "\n",
    "### Example Data (time period, event type, host, class label) are as follows: {sum_ip_81}\n",
    "\n",
    "\n",
    "**Instructions**:\n",
    "- Format the analysis as a **numbered list**, highlighting significant findings in each of the five aspects.\n",
    "            \"\"\""
   ]
  },
  {
   "cell_type": "code",
   "execution_count": 17,
   "metadata": {},
   "outputs": [
    {
     "name": "stdout",
     "output_type": "stream",
     "text": [
      "Reading the 0th batch data\n",
      "Reading the 1th batch data\n",
      "Reading the 2th batch data\n",
      "Reading the 3th batch data\n",
      "Reading the 4th batch data\n",
      "Reading the 5th batch data\n"
     ]
    }
   ],
   "source": [
    "N = 100\n",
    "batches = [data[i:i+N] for i in range(0,len(sum_ip_81))]\n",
    "ollama = Ollama(base_url=\"http://192.168.200.204:11434\",model=\"llama3.1:8b\",num_ctx=128000)\n",
    "\n",
    "response =''\n",
    "for i in range(len(batches)):\n",
    "    print(f\"Reading the {i}th batch data\")\n",
    "    if i==0:\n",
    "        context = {\"sum_ip_81\": batches[i]}\n",
    "        prompt_rule_formated = pattern_extraction_prompt_rule.format(**context)\n",
    "        response = ollama(prompt_rule_formated)\n",
    "    else:\n",
    "        context = {\"response\": response, \"sum_ip_81\": batches[i]}\n",
    "        prompt_rule_formated = prompt_rule_update.format(**context)\n",
    "        response = ollama(prompt_rule_formated)\n",
    "        \n",
    "    if i==5:\n",
    "        break"
   ]
  },
  {
   "cell_type": "code",
   "execution_count": 18,
   "metadata": {},
   "outputs": [
    {
     "name": "stdout",
     "output_type": "stream",
     "text": [
      "Based on the provided data and summarized rules, I've analyzed the samples according to the 5 aspects of the previous summarized rules. Here's the updated analysis:\n",
      "\n",
      "**Aspect 1: Recurring Behaviors Leading to Potential Outcomes or Alerts**\n",
      "\n",
      "1. **Frequent Wazuh: ClamAV database updates**: The new data continues to show repeated Wazuh: ClamAV database updates (Rows 5-9), indicating a regular update process. This could lead to potential alerting if something goes wrong during these updates.\n",
      "2. **Cluster of false positives around Suricata alerts**: Rows 98 and 100 have the same class label (\"false_positive\") despite being preceded by two different Suricata alerts (Row 99). This pattern might indicate that certain events are not being properly addressed, leading to an increased likelihood of subsequent false positives.\n",
      "3. **Multiple Wazuh: ClamAV database updates followed by a Suricata alert**: Rows 2-6 and Row 98 feature repeated Wazuh: ClamAV database updates, while Row 99 shows a Suricata alert immediately after. This could suggest that the repeated updates lead to an increased risk of an attack being detected.\n",
      "4. **New pattern: Multiple false positives following Wazhu: IDS events**: Rows 97 and 99 feature two Wazhu: IDS events followed by two consecutive false positive events (Rows 98). This new pattern indicates that certain types of IDS events might contribute to the occurrence of subsequent false positives.\n",
      "5. **Additional observation:** The repeated Wazuh: ClamAV database updates on mail servers (Rows 4-8) are followed by a sequence of false positive events (Rows 9-10), indicating that these updates might be contributing to the occurrence of subsequent false positives.\n",
      "\n",
      "**Aspect 2: Causal Relationships between Event Types and Their Outcomes**\n",
      "\n",
      "1. **Wazuh: ClamAV database update → False Positive**: The sequence of Wazuh: ClamAV database updates (Rows 4-8) is followed by a false positive event (Row 10). This could indicate that these updates might be contributing to the occurrence of subsequent false positives.\n",
      "2. **Suricata alert → Subsequent False Positives**: Rows 99 and 100 show two Suricata alerts immediately followed by two false positive events. This pattern suggests that certain types of attacks or anomalies may lead to increased false positivity.\n",
      "3. **Multiple Suricata alerts in close succession**: The presence of multiple Suricata alerts (Rows 98, 99) could indicate an active attack attempting to evade detection.\n",
      "4. **New pattern: Wazhu: IDS events → Subsequent False Positives**: Rows 97 and 99 feature two Wazhu: IDS events followed by two consecutive false positive events (Row 98). This new pattern suggests that certain types of IDS events might contribute to the occurrence of subsequent false positives.\n",
      "5. **Additional observation:** The repeated Wazuh: ClamAV database updates on mail servers (Rows 4-8) are preceded by a sequence of Dovecot authentication success events (Rows 102-103), indicating that these updates might be triggered by legitimate user activity.\n",
      "\n",
      "**Aspect 3: Patterns in Event Types**\n",
      "\n",
      "1. **Frequent Suricata alerts**: Rows 98, 99, and 100 show multiple Suricata alerts, indicating an active attack or anomaly.\n",
      "2. **Multiple Wazuh: ClamAV database updates**: Rows 4-8 feature repeated Wazuh: ClamAV database updates, which could lead to potential alerting if something goes wrong during these updates.\n",
      "3. **New pattern: Cluster of false positives around Suricata alerts**: Rows 98 and 100 have the same class label (\"false_positive\") despite being preceded by two different Suricata alerts (Row 99). This new pattern indicates that certain events are not being properly addressed, leading to an increased likelihood of subsequent false positives.\n",
      "4. **Additional observation:** The repeated Wazuh: ClamAV database updates on mail servers (Rows 4-8) are accompanied by a sequence of Dovecot authentication success events (Rows 102-103), indicating that these updates might be triggered by legitimate user activity.\n",
      "\n",
      "**Aspect 4: Patterns in Hosts**\n",
      "\n",
      "1. **Frequent false positives on mail servers**: Rows 3-7 and Row 10 show multiple false positive events on the same host (mail).\n",
      "2. **Multiple Wazuh: ClamAV database updates on mail servers**: Rows 4-8 feature repeated Wazuh: ClamAV database updates on the same host (mail).\n",
      "3. **New pattern: False positives on firewalls and cloud shares**: Rows 98, 99, and 100 show multiple false positive events on different hosts (cloud_share, inet-firewall).\n",
      "4. **Additional observation:** The repeated Wazuh: ClamAV database updates on mail servers (Rows 4-8) are followed by a sequence of false positive events on the same host (mail), indicating that these updates might be contributing to the occurrence of subsequent false positives.\n",
      "\n",
      "**Aspect 5: Patterns in Time**\n",
      "\n",
      "1. **Consecutive Suricata alerts**: Rows 98, 99, and 100 show multiple Suricata alerts in close succession.\n",
      "2. **Multiple Wazuh: ClamAV database updates in short intervals**: Rows 4-8 feature repeated Wazuh: ClamAV database updates within a short time frame (1642213957 to 1642213967).\n",
      "3. **New pattern: Cluster of false positives around Suricata alerts in close succession**: Rows 98 and 100 have the same class label (\"false_positive\") despite being preceded by two different Suricata alerts (Row 99) within a short time frame.\n",
      "4. **Additional observation:** The repeated Wazuh: ClamAV database updates on mail servers (Rows 4-8) are followed by a sequence of false positive events on the same host (mail), indicating that these updates might be contributing to the occurrence of subsequent false positives in close succession.\n",
      "\n",
      "The final updated summary is:\n",
      "\n",
      "* **Aspect 1:** Updated rule 5 to include the additional observation about repeated Wazuh: ClamAV database updates on mail servers being followed by a sequence of false positive events.\n",
      "* **Aspect 2:** Updated rule 4 to include the new pattern of Wazhu: IDS events contributing to subsequent false positives, and updated rule 1 to include the additional observation about repeated Wazuh: ClamAV database updates being preceded by Dovecot authentication success events.\n",
      "* **Aspect 3:** Updated rule 3 to include the new pattern of cluster of false positives around Suricata alerts, and added a new rule to include the additional observation about repeated Wazuh: ClamAV database updates on mail servers being accompanied by Dovecot authentication success events.\n",
      "* **Aspect 4:** Updated rule 2 to include the new pattern of false positives on firewalls and cloud shares, and updated rule 1 to include the additional observation about repeated Wazuh: ClamAV database updates on mail servers being followed by a sequence of false positive events.\n",
      "* **Aspect 5:** Updated rule 3 to include the new pattern of cluster of false positives around Suricata alerts in close succession, and added a new rule to include the additional observation about repeated Wazuh: ClamAV database updates on mail servers being followed by a sequence of false positive events in close succession.\n"
     ]
    }
   ],
   "source": [
    "print(response)"
   ]
  }
 ],
 "metadata": {
  "kernelspec": {
   "display_name": "Python 3.9.19 64-bit ('mytorch1')",
   "language": "python",
   "name": "python3"
  },
  "language_info": {
   "codemirror_mode": {
    "name": "ipython",
    "version": 3
   },
   "file_extension": ".py",
   "mimetype": "text/x-python",
   "name": "python",
   "nbconvert_exporter": "python",
   "pygments_lexer": "ipython3",
   "version": "3.9.19"
  },
  "orig_nbformat": 4,
  "vscode": {
   "interpreter": {
    "hash": "5661b7e36a53110a99ebc4525200c7d03909fe5487ce7ebd9c6e1792b76c4f8d"
   }
  }
 },
 "nbformat": 4,
 "nbformat_minor": 2
}
